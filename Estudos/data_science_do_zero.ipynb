{
 "cells": [
  {
   "cell_type": "markdown",
   "source": [
    "# Notebook para acompanhar leitura do livro Data Science do Zero por Juel Grus\n"
   ],
   "metadata": {
    "collapsed": false
   },
   "id": "d756fba6b306b540"
  },
  {
   "cell_type": "markdown",
   "source": [
    "## 1 Funções e funções lambda"
   ],
   "metadata": {
    "collapsed": false
   },
   "id": "aca30a7c6b1fbda4"
  },
  {
   "cell_type": "code",
   "execution_count": 15,
   "id": "initial_id",
   "metadata": {
    "collapsed": true,
    "ExecuteTime": {
     "end_time": "2023-07-29T22:15:30.311494Z",
     "start_time": "2023-07-29T22:15:30.283079500Z"
    }
   },
   "outputs": [
    {
     "name": "stdout",
     "output_type": "stream",
     "text": [
      "6\n"
     ]
    }
   ],
   "source": [
    "def soma(x, y):\n",
    "    return x + y\n",
    "\n",
    "y = lambda x: x + 1\n",
    "print(soma(3,y(2)))     # y = y(x) = x+1 ; y = y(2) = 2+1 = 3 ; soma = 3 + 3 "
   ]
  },
  {
   "cell_type": "markdown",
   "source": [
    "## 2 Listas"
   ],
   "metadata": {
    "collapsed": false
   },
   "id": "ac68ec237b56d685"
  },
  {
   "cell_type": "code",
   "execution_count": 14,
   "outputs": [],
   "source": [
    "integer_list = [1, 2, 3, 4, 5]\n",
    "heterogeneous_list = [\"String\", 0.1, True]\n",
    "\n",
    "list_of_lists = [integer_list, heterogeneous_list, []]\n",
    "list_length = len(integer_list) # 5\n",
    "list_sum = sum(integer_list) # 15\n",
    "\n",
    "x = [0, 1, 2, 3, 4, 5, 6, 7, 8, 9]\n",
    "zero = x[0]\n",
    "one = x[1]\n",
    "nine = x[-1]    # 9, forma pythonic para o ultimo element da lista.\n",
    "x[0] = -1       # x = [-1, 1, 2, 3, 4, 5, 6, 7, 8, 9]"
   ],
   "metadata": {
    "collapsed": false,
    "ExecuteTime": {
     "end_time": "2023-07-29T22:15:27.599209Z",
     "start_time": "2023-07-29T22:15:27.594295200Z"
    }
   },
   "id": "795ac857a0ffc0d2"
  },
  {
   "cell_type": "markdown",
   "source": [
    "### 2.1 Fatiamento de listas\n",
    "- A fatia i:j contém todos os elementos de i(incluído) a j(não incluído), se o inicio da fatia não for indicado, ela começará no início da lista; se o final da fatia não for indicado, ela terminara no final da lista."
   ],
   "metadata": {
    "collapsed": false
   },
   "id": "812e99ebee39691e"
  },
  {
   "cell_type": "code",
   "execution_count": 20,
   "outputs": [],
   "source": [
    "first_three = x[:3]     # [-1, 1, 2]\n",
    "three_to_end = x[3:]    # [3, 4, ..., 9]\n",
    "one_to_four = x[1:5]    # [1, 2, 3, 4]\n",
    "last_three = x[-3]\n",
    "without_first_and_last = x[1:-1]    #[1, 2, ..., 8]\n",
    "copy_of_x = x[:]"
   ],
   "metadata": {
    "collapsed": false,
    "ExecuteTime": {
     "end_time": "2023-07-29T22:36:42.838903500Z",
     "start_time": "2023-07-29T22:36:42.833866Z"
    }
   },
   "id": "c7954ac5f3d8f243"
  },
  {
   "cell_type": "markdown",
   "source": [
    "### 2.2 Stride"
   ],
   "metadata": {
    "collapsed": false
   },
   "id": "9a185c57a3ed6d3a"
  },
  {
   "cell_type": "code",
   "execution_count": null,
   "outputs": [],
   "source": [
    "every_third = x[::3]        # [-1, 3, 6, 9]\n",
    "five_to_three = x[5:2:-1]   # [5, 4, 3]"
   ],
   "metadata": {
    "collapsed": false
   },
   "id": "942d90369d5bad7f"
  },
  {
   "cell_type": "markdown",
   "source": [
    "### 2.3 Operador in\n",
    "- Verifica se um elemento está presente na lista"
   ],
   "metadata": {
    "collapsed": false
   },
   "id": "863f58617cba1da4"
  },
  {
   "cell_type": "code",
   "execution_count": 28,
   "outputs": [
    {
     "data": {
      "text/plain": "[1, 2, 3, 4, 5, 6]"
     },
     "execution_count": 28,
     "metadata": {},
     "output_type": "execute_result"
    }
   ],
   "source": [
    "1 in [1, 2, 3] # Verdadeiro\n",
    "0 in [1, 2, 3] # Falso\n",
    "x = [1, 2, 3]\n",
    "x.extend([4, 5, 6]) # x concatenado com [4, 5, 6] = [1, 2, 3, 4, 5, 6]\n",
    "x"
   ],
   "metadata": {
    "collapsed": false,
    "ExecuteTime": {
     "end_time": "2023-07-29T22:46:49.642316900Z",
     "start_time": "2023-07-29T22:46:49.619234Z"
    }
   },
   "id": "ea10679d5d60a54a"
  },
  {
   "cell_type": "markdown",
   "source": [
    "### 2.4 Adição de listas"
   ],
   "metadata": {
    "collapsed": false
   },
   "id": "3bf530f4a84397f"
  },
  {
   "cell_type": "code",
   "execution_count": 25,
   "outputs": [
    {
     "data": {
      "text/plain": "[1, 2, 3, 4, 5, 6]"
     },
     "execution_count": 25,
     "metadata": {},
     "output_type": "execute_result"
    }
   ],
   "source": [
    "x = [1, 2, 3]\n",
    "y = x + [4, 5, 6]\n",
    "y"
   ],
   "metadata": {
    "collapsed": false,
    "ExecuteTime": {
     "end_time": "2023-07-29T22:46:42.451953200Z",
     "start_time": "2023-07-29T22:46:42.435413500Z"
    }
   },
   "id": "5d378504a642caaf"
  },
  {
   "cell_type": "code",
   "execution_count": 29,
   "outputs": [
    {
     "name": "stdout",
     "output_type": "stream",
     "text": [
      "x = 1\n",
      "y = 2\n"
     ]
    }
   ],
   "source": [
    "x, y = [1, 2]\n",
    "print(f'x = {x}\\ny = {y}')"
   ],
   "metadata": {
    "collapsed": false,
    "ExecuteTime": {
     "end_time": "2023-07-29T22:47:33.944348Z",
     "start_time": "2023-07-29T22:47:33.933566900Z"
    }
   },
   "id": "369f60f2f8b491be"
  },
  {
   "cell_type": "markdown",
   "source": [
    "## 3 Tuplas\n",
    "- Parecidas com as listas, porém são imutáveis"
   ],
   "metadata": {
    "collapsed": false
   },
   "id": "2db83c224053beae"
  },
  {
   "cell_type": "code",
   "execution_count": 34,
   "outputs": [
    {
     "data": {
      "text/plain": "(5, 6)"
     },
     "execution_count": 34,
     "metadata": {},
     "output_type": "execute_result"
    }
   ],
   "source": [
    "my_list = [1, 2]\n",
    "my_tuple = (1, 2)\n",
    "\n",
    "def sum_and_product(x,y): return (x + y),(x * y)\n",
    "sp = sum_and_product(2, 3)\n",
    "sp"
   ],
   "metadata": {
    "collapsed": false,
    "ExecuteTime": {
     "end_time": "2023-07-29T22:54:00.837541800Z",
     "start_time": "2023-07-29T22:54:00.806596500Z"
    }
   },
   "id": "57e0b5173375a49d"
  },
  {
   "cell_type": "markdown",
   "source": [
    "## 4 Dicionários"
   ],
   "metadata": {
    "collapsed": false
   },
   "id": "4de987317956582c"
  }
 ],
 "metadata": {
  "kernelspec": {
   "display_name": "Python 3",
   "language": "python",
   "name": "python3"
  },
  "language_info": {
   "codemirror_mode": {
    "name": "ipython",
    "version": 2
   },
   "file_extension": ".py",
   "mimetype": "text/x-python",
   "name": "python",
   "nbconvert_exporter": "python",
   "pygments_lexer": "ipython2",
   "version": "2.7.6"
  }
 },
 "nbformat": 4,
 "nbformat_minor": 5
}
