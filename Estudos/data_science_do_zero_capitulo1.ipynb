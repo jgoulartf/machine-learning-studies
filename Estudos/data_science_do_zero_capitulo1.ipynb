{
 "cells": [
  {
   "cell_type": "markdown",
   "source": [
    "# Notebook para acompanhar leitura do livro Data Science do Zero por Juel Grus\n"
   ],
   "metadata": {
    "collapsed": false
   },
   "id": "d756fba6b306b540"
  },
  {
   "cell_type": "markdown",
   "source": [
    "## DataScie"
   ],
   "metadata": {
    "collapsed": false
   },
   "id": "2a68ea1a3476a5ac"
  }
 ],
 "metadata": {
  "kernelspec": {
   "display_name": "Python 3",
   "language": "python",
   "name": "python3"
  },
  "language_info": {
   "codemirror_mode": {
    "name": "ipython",
    "version": 2
   },
   "file_extension": ".py",
   "mimetype": "text/x-python",
   "name": "python",
   "nbconvert_exporter": "python",
   "pygments_lexer": "ipython2",
   "version": "2.7.6"
  }
 },
 "nbformat": 4,
 "nbformat_minor": 5
}
