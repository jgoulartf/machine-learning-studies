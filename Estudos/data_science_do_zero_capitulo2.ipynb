{
 "cells": [
  {
   "cell_type": "markdown",
   "source": [
    "# Data Science do Zero, primeiras regras com python por Juel Grus\n",
    "## Cápitulo 2 - Curso relâmpago de python\n"
   ],
   "metadata": {
    "collapsed": false
   },
   "id": "d756fba6b306b540"
  },
  {
   "cell_type": "markdown",
   "source": [
    "# Básico"
   ],
   "metadata": {
    "collapsed": false
   },
   "id": "a581a777e3c87c27"
  },
  {
   "cell_type": "markdown",
   "source": [
    "## 1 Funções e funções lambda"
   ],
   "metadata": {
    "collapsed": false
   },
   "id": "aca30a7c6b1fbda4"
  },
  {
   "cell_type": "code",
   "execution_count": 5,
   "id": "initial_id",
   "metadata": {
    "collapsed": true,
    "ExecuteTime": {
     "end_time": "2023-08-07T18:59:55.470670900Z",
     "start_time": "2023-08-07T18:59:55.456406500Z"
    }
   },
   "outputs": [
    {
     "name": "stdout",
     "output_type": "stream",
     "text": [
      "6\n"
     ]
    }
   ],
   "source": [
    "def soma(x, y):\n",
    "    return x + y\n",
    "\n",
    "y = lambda x: x + 1\n",
    "print(soma(3,y(2)))     # y = y(x) = x+1 ; y = y(2) = 2+1 = 3 ; soma = 3 + 3 "
   ]
  },
  {
   "cell_type": "markdown",
   "source": [
    "## 2 Listas"
   ],
   "metadata": {
    "collapsed": false
   },
   "id": "ac68ec237b56d685"
  },
  {
   "cell_type": "code",
   "execution_count": 6,
   "outputs": [],
   "source": [
    "integer_list = [1, 2, 3, 4, 5]\n",
    "heterogeneous_list = [\"String\", 0.1, True]\n",
    "\n",
    "list_of_lists = [integer_list, heterogeneous_list, []]\n",
    "list_length = len(integer_list) # 5\n",
    "list_sum = sum(integer_list) # 15\n",
    "\n",
    "x = [0, 1, 2, 3, 4, 5, 6, 7, 8, 9]\n",
    "zero = x[0]\n",
    "one = x[1]\n",
    "nine = x[-1]    # 9, forma pythonic para o ultimo element da lista.\n",
    "x[0] = -1       # x = [-1, 1, 2, 3, 4, 5, 6, 7, 8, 9]"
   ],
   "metadata": {
    "collapsed": false,
    "ExecuteTime": {
     "end_time": "2023-08-07T18:59:57.630306400Z",
     "start_time": "2023-08-07T18:59:57.628181100Z"
    }
   },
   "id": "795ac857a0ffc0d2"
  },
  {
   "cell_type": "markdown",
   "source": [
    "### 2.1 Fatiamento de listas\n",
    "- A fatia i:j contém todos os elementos de i(incluído) a j(não incluído), se o inicio da fatia não for indicado, ela começará no início da lista; se o final da fatia não for indicado, ela terminara no final da lista."
   ],
   "metadata": {
    "collapsed": false
   },
   "id": "812e99ebee39691e"
  },
  {
   "cell_type": "code",
   "execution_count": 7,
   "outputs": [],
   "source": [
    "first_three = x[:3]     # [-1, 1, 2]\n",
    "three_to_end = x[3:]    # [3, 4, ..., 9]\n",
    "one_to_four = x[1:5]    # [1, 2, 3, 4]\n",
    "last_three = x[-3]\n",
    "without_first_and_last = x[1:-1]    #[1, 2, ..., 8]\n",
    "copy_of_x = x[:]"
   ],
   "metadata": {
    "collapsed": false,
    "ExecuteTime": {
     "end_time": "2023-08-07T19:00:01.230678600Z",
     "start_time": "2023-08-07T19:00:01.215056300Z"
    }
   },
   "id": "c7954ac5f3d8f243"
  },
  {
   "cell_type": "markdown",
   "source": [
    "### 2.2 Stride"
   ],
   "metadata": {
    "collapsed": false
   },
   "id": "9a185c57a3ed6d3a"
  },
  {
   "cell_type": "code",
   "execution_count": 8,
   "outputs": [],
   "source": [
    "every_third = x[::3]        # [-1, 3, 6, 9]\n",
    "five_to_three = x[5:2:-1]   # [5, 4, 3]"
   ],
   "metadata": {
    "collapsed": false,
    "ExecuteTime": {
     "end_time": "2023-08-07T19:00:02.505445300Z",
     "start_time": "2023-08-07T19:00:02.489808800Z"
    }
   },
   "id": "942d90369d5bad7f"
  },
  {
   "cell_type": "markdown",
   "source": [
    "### 2.3 Operador in\n",
    "- Verifica se um elemento está presente na lista"
   ],
   "metadata": {
    "collapsed": false
   },
   "id": "863f58617cba1da4"
  },
  {
   "cell_type": "code",
   "execution_count": 28,
   "outputs": [
    {
     "data": {
      "text/plain": "[1, 2, 3, 4, 5, 6]"
     },
     "execution_count": 28,
     "metadata": {},
     "output_type": "execute_result"
    }
   ],
   "source": [
    "1 in [1, 2, 3] # Verdadeiro\n",
    "0 in [1, 2, 3] # Falso\n",
    "x = [1, 2, 3]\n",
    "x.extend([4, 5, 6]) # x concatenado com [4, 5, 6] = [1, 2, 3, 4, 5, 6]\n",
    "x"
   ],
   "metadata": {
    "collapsed": false,
    "ExecuteTime": {
     "end_time": "2023-07-29T22:46:49.642316900Z",
     "start_time": "2023-07-29T22:46:49.619234Z"
    }
   },
   "id": "ea10679d5d60a54a"
  },
  {
   "cell_type": "markdown",
   "source": [
    "### 2.4 Adição de listas"
   ],
   "metadata": {
    "collapsed": false
   },
   "id": "3bf530f4a84397f"
  },
  {
   "cell_type": "code",
   "execution_count": 25,
   "outputs": [
    {
     "data": {
      "text/plain": "[1, 2, 3, 4, 5, 6]"
     },
     "execution_count": 25,
     "metadata": {},
     "output_type": "execute_result"
    }
   ],
   "source": [
    "x = [1, 2, 3]\n",
    "y = x + [4, 5, 6]\n",
    "y"
   ],
   "metadata": {
    "collapsed": false,
    "ExecuteTime": {
     "end_time": "2023-07-29T22:46:42.451953200Z",
     "start_time": "2023-07-29T22:46:42.435413500Z"
    }
   },
   "id": "5d378504a642caaf"
  },
  {
   "cell_type": "code",
   "execution_count": 29,
   "outputs": [
    {
     "name": "stdout",
     "output_type": "stream",
     "text": [
      "x = 1\n",
      "y = 2\n"
     ]
    }
   ],
   "source": [
    "x, y = [1, 2]\n",
    "print(f'x = {x}\\ny = {y}')"
   ],
   "metadata": {
    "collapsed": false,
    "ExecuteTime": {
     "end_time": "2023-07-29T22:47:33.944348Z",
     "start_time": "2023-07-29T22:47:33.933566900Z"
    }
   },
   "id": "369f60f2f8b491be"
  },
  {
   "cell_type": "markdown",
   "source": [
    "## 3 Tuplas\n",
    "- Parecidas com as listas, porém são imutáveis"
   ],
   "metadata": {
    "collapsed": false
   },
   "id": "2db83c224053beae"
  },
  {
   "cell_type": "code",
   "execution_count": 2,
   "outputs": [
    {
     "data": {
      "text/plain": "(5, 6)"
     },
     "execution_count": 2,
     "metadata": {},
     "output_type": "execute_result"
    }
   ],
   "source": [
    "my_list = [1, 2]\n",
    "my_tuple = (1, 2)\n",
    "\n",
    "def sum_and_product(x,y): return (x + y),(x * y)\n",
    "sp = sum_and_product(2, 3)\n",
    "sp"
   ],
   "metadata": {
    "collapsed": false,
    "ExecuteTime": {
     "end_time": "2023-08-07T18:54:22.800809Z",
     "start_time": "2023-08-07T18:54:22.780643700Z"
    }
   },
   "id": "57e0b5173375a49d"
  },
  {
   "cell_type": "markdown",
   "source": [
    "## 4 Dicionários\n",
    "> ### Frequentemente usaremos dicionários como uma simples maneira de representar dados estruturados"
   ],
   "metadata": {
    "collapsed": false
   },
   "id": "4de987317956582c"
  },
  {
   "cell_type": "code",
   "execution_count": 4,
   "outputs": [],
   "source": [
    "empty_dict = {}                           # Pythonic \n",
    "empty_dict2 = dict();                     # Less pythonic \n",
    "grades = { \"Joel\" : 80, \"Tim\" : 95 }      # Literal dict \n",
    "joels_grade = grades[\"Joel\"]              # Return joels grade value ; 80"
   ],
   "metadata": {
    "collapsed": false,
    "ExecuteTime": {
     "end_time": "2023-08-07T19:03:36.335227500Z",
     "start_time": "2023-08-07T19:03:36.241489500Z"
    }
   },
   "id": "49a2d9e8f0c098e5"
  },
  {
   "cell_type": "code",
   "execution_count": 8,
   "outputs": [
    {
     "name": "stdout",
     "output_type": "stream",
     "text": [
      "No grade for Kate!\n"
     ]
    }
   ],
   "source": [
    "try: \n",
    "    kates_grade = grades[\"Kate\"] \n",
    "except KeyError: \n",
    "    print(\"No grade for Kate!\")"
   ],
   "metadata": {
    "collapsed": false,
    "ExecuteTime": {
     "end_time": "2023-08-07T19:03:59.999890400Z",
     "start_time": "2023-08-07T19:03:59.968644900Z"
    }
   },
   "id": "75bd57ce38aa5d2f"
  },
  {
   "cell_type": "markdown",
   "source": [
    "### 4.1 Operadores e métodos para trabalhar com dicionários\n",
    "> #### Operador in \n",
    "> - ##### Verifica a existência de uma chave em um dicionário"
   ],
   "metadata": {
    "collapsed": false
   },
   "id": "b1b5b27d1f4c9348"
  },
  {
   "cell_type": "code",
   "execution_count": 10,
   "outputs": [
    {
     "name": "stdout",
     "output_type": "stream",
     "text": [
      "True\n",
      "False\n"
     ]
    }
   ],
   "source": [
    "joel_has_grade = \"Joel\" in grades   # True\n",
    "kate_has_grade = \"Kate\" in grades   # False\n",
    "print(joel_has_grade)\n",
    "print(kate_has_grade)"
   ],
   "metadata": {
    "collapsed": false,
    "ExecuteTime": {
     "start_time": "2023-08-07T19:04:15.501300300Z"
    }
   },
   "id": "e245408db3976c90"
  },
  {
   "cell_type": "markdown",
   "source": [
    "> #### Método get\n",
    "> - #####  Retorna um valor padrão (em vez de levantar uma exceção) quando você procura por uma chave que não esteja no dicionário  "
   ],
   "metadata": {
    "collapsed": false
   },
   "id": "f9eb62106acf4064"
  },
  {
   "cell_type": "code",
   "execution_count": 12,
   "outputs": [],
   "source": [
    "joels_grade = grades.get(\"Joel\", 0)    # 80 \n",
    "kates_grade = grades.get(\"Kate\", 0)    # 0 \n",
    "no_ones_grade = grades.get(\"No One\")   # Padrão None "
   ],
   "metadata": {
    "collapsed": false,
    "ExecuteTime": {
     "end_time": "2023-08-07T19:10:49.057800100Z",
     "start_time": "2023-08-07T19:10:48.957670500Z"
    }
   },
   "id": "79e86feba67c2f1a"
  },
  {
   "cell_type": "markdown",
   "source": [
    "### 4.2 defaultdict\n",
    "> - ##### Um defaultdict é como um dicionário comum, exceto que, quando você tenta procurar por uma chave que ele não possui, ele primeiro adiciona um valor para ela usando a função de argumento zero que você forneceu ao criá-lo.\n",
    "> - ##### Isso será útil quando você usar dicionários para “coletar” resultados por alguma chave e não quiser verificar toda vez para ver se ela ainda existe. "
   ],
   "metadata": {
    "collapsed": false
   },
   "id": "1ac872006ece0e13"
  },
  {
   "cell_type": "code",
   "execution_count": 13,
   "outputs": [],
   "source": [
    "from collections import defaultdict \n",
    "dd_list = defaultdict(list)                 # list() produz uma lista vazia \n",
    "dd_list[2].append(1)                        # agora dd_list contém {2: [1]} \n",
    "dd_dict = defaultdict(dict)                 # dict() produz um dict vazio \n",
    "dd_dict[\"Joel\"][\"City\"] = \"Seattle\"         # { \"Joel\" : { \"City\" : Seattle\"}} \n",
    "dd_pair = defaultdict(lambda: [0, 0]) \n",
    "dd_pair[2][1] = 1                           # agora dd_pair contêm {2: [0,1]}"
   ],
   "metadata": {
    "collapsed": false,
    "ExecuteTime": {
     "end_time": "2023-08-07T19:15:39.981332400Z",
     "start_time": "2023-08-07T19:15:39.965703700Z"
    }
   },
   "id": "8474d4f23c50803e"
  },
  {
   "cell_type": "markdown",
   "source": [
    "## 5 Contador\n",
    "> ### Um Counter (contador) transforma uma sequência de valores em algo parecido com o objeto defaultdict(int) mapeando as chaves para as contagens."
   ],
   "metadata": {
    "collapsed": false
   },
   "id": "c0fb8d12a1abb1f1"
  },
  {
   "cell_type": "code",
   "execution_count": 15,
   "outputs": [
    {
     "data": {
      "text/plain": "Counter({0: 2, 1: 1, 2: 1})"
     },
     "execution_count": 15,
     "metadata": {},
     "output_type": "execute_result"
    }
   ],
   "source": [
    "from collections import Counter\n",
    "c = Counter([0, 1, 2, 0])   # c = { 0 : 2, 1 : 1, 2 : 1 }\n",
    "c"
   ],
   "metadata": {
    "collapsed": false,
    "ExecuteTime": {
     "end_time": "2023-08-07T19:50:42.030454900Z",
     "start_time": "2023-08-07T19:50:41.973049500Z"
    }
   },
   "id": "ec4b785d1f08aac2"
  },
  {
   "cell_type": "markdown",
   "source": [
    "## 6 Conjuntos\n",
    "> ### Outra estrutura de dados é o set (conjunto), que representa uma coleção de elementos distintos\n",
    "> - ##### Usaremos os conjuntos por duas razões principais. A primeira é que in é uma operação muito rápida em conjuntos. Se tivermos uma grande coleção de itens que queiramos usar para um teste de sociedade, um conjunto é mais adequado do que uma lista."
   ],
   "metadata": {
    "collapsed": false
   },
   "id": "b9a33aecdb90857e"
  },
  {
   "cell_type": "code",
   "execution_count": 16,
   "outputs": [],
   "source": [
    "s = set()\n",
    "s.add(1)    # s = {1}\n",
    "s.add(2)    # s = {1, 2}\n",
    "s.add(2)    # s = {1, 2}, pois já existe 2 no conjunto\n",
    "x = len(s)  # 2\n",
    "y = 2 in s  # True\n",
    "z = 3 in s  # false"
   ],
   "metadata": {
    "collapsed": false,
    "ExecuteTime": {
     "end_time": "2023-08-07T19:56:56.807237400Z",
     "start_time": "2023-08-07T19:56:56.759720800Z"
    }
   },
   "id": "de1b43a70291a3a8"
  },
  {
   "cell_type": "code",
   "execution_count": 18,
   "outputs": [],
   "source": [
    "stopwords_list = [\"a\", \"an\", \"at\"] + [\"yet\", \"you\"]\n",
    "zip_in_stopwords_list = \"zip\" in stopwords_list  # False, but verify all elements\n",
    "\n",
    "stopwords_set = set(stopwords_list) \n",
    "zip_in_stopwords_set = \"zip\" in stopwords_set  # False and verify very fast"
   ],
   "metadata": {
    "collapsed": false,
    "ExecuteTime": {
     "end_time": "2023-08-07T20:00:24.751278600Z",
     "start_time": "2023-08-07T20:00:24.707490100Z"
    }
   },
   "id": "e8f5f09c0ec76eed"
  },
  {
   "cell_type": "markdown",
   "source": [
    "## 7 Controles de fluxo\n",
    "> - ##### if e else\n",
    "> - ##### loop while\n",
    "> - ##### loop for"
   ],
   "metadata": {
    "collapsed": false
   },
   "id": "a513765cbfc49fde"
  },
  {
   "cell_type": "markdown",
   "source": [
    "## 8 Veracidade\n",
    ">##### Os Booleanos em Python funcionam como na maioria das linguagens, exceto que eles são iniciados por letras maiúsculas."
   ],
   "metadata": {
    "collapsed": false
   },
   "id": "22f30743836a8889"
  },
  {
   "cell_type": "markdown",
   "source": [
    "# Não tão básico"
   ],
   "metadata": {
    "collapsed": false
   },
   "id": "fb9835befc549e49"
  },
  {
   "cell_type": "markdown",
   "source": [
    "## 1 Ordenação\n",
    "> ##### Toda lista de Python possui um método sort que ordena seu espaço. Se você não quer bagunçar sua lista, você pode usar a função sorted, que retornam uma lista nova\n"
   ],
   "metadata": {
    "collapsed": false
   },
   "id": "efa17b626126bacc"
  },
  {
   "cell_type": "code",
   "execution_count": 21,
   "outputs": [],
   "source": [
    "x = [4, 3, 2, 1]\n",
    "y = sorted(x)   # y is [1, 2, 3, 4] e x dont change\n",
    "x.sort()        # Now x changes"
   ],
   "metadata": {
    "collapsed": false,
    "ExecuteTime": {
     "end_time": "2023-08-07T20:06:40.408745400Z",
     "start_time": "2023-08-07T20:06:40.292748700Z"
    }
   },
   "id": "ea8554c6557233c1"
  },
  {
   "cell_type": "markdown",
   "source": [],
   "metadata": {
    "collapsed": false
   },
   "id": "74aba6d2987b8915"
  }
 ],
 "metadata": {
  "kernelspec": {
   "display_name": "Python 3",
   "language": "python",
   "name": "python3"
  },
  "language_info": {
   "codemirror_mode": {
    "name": "ipython",
    "version": 2
   },
   "file_extension": ".py",
   "mimetype": "text/x-python",
   "name": "python",
   "nbconvert_exporter": "python",
   "pygments_lexer": "ipython2",
   "version": "2.7.6"
  }
 },
 "nbformat": 4,
 "nbformat_minor": 5
}
